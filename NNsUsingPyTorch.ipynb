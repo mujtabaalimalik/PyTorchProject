{
 "cells": [
  {
   "cell_type": "markdown",
   "metadata": {
    "id": "c5BcNw5wXvZg"
   },
   "source": [
    "# 0. Set-up\n",
    "## Libraries\n",
    "Loading required packages."
   ]
  },
  {
   "cell_type": "code",
   "execution_count": 68,
   "metadata": {
    "executionInfo": {
     "elapsed": 208,
     "status": "ok",
     "timestamp": 1713306863085,
     "user": {
      "displayName": "Mujtaba Ali Malik",
      "userId": "00496898424284038519"
     },
     "user_tz": -60
    },
    "id": "mSs-RKJfX0cP"
   },
   "outputs": [],
   "source": [
    "import matplotlib.pyplot as plt\n",
    "import numpy as np\n",
    "import torch\n",
    "import torchvision\n",
    "import torchvision.transforms as transforms\n",
    "import torch.nn as nn\n",
    "import torch.nn.functional as F\n",
    "import torch.optim as optim\n",
    "import time"
   ]
  },
  {
   "cell_type": "markdown",
   "metadata": {
    "id": "CVZIA5gLYzmC"
   },
   "source": [
    "## GPU\n",
    "Checking for GPU and switching to GPU if available."
   ]
  },
  {
   "cell_type": "code",
   "execution_count": 69,
   "metadata": {
    "colab": {
     "base_uri": "https://localhost:8080/"
    },
    "executionInfo": {
     "elapsed": 4,
     "status": "ok",
     "timestamp": 1713306863306,
     "user": {
      "displayName": "Mujtaba Ali Malik",
      "userId": "00496898424284038519"
     },
     "user_tz": -60
    },
    "id": "hCIqMKMfY1Ek",
    "outputId": "d7677ad8-c5f7-49db-8fc3-9f1f6d92be70"
   },
   "outputs": [
    {
     "name": "stdout",
     "output_type": "stream",
     "text": [
      "Using cuda.\n"
     ]
    }
   ],
   "source": [
    "device = torch.device('cuda' if torch.cuda.is_available() else 'cpu')\n",
    "print(f'Using {device}.')"
   ]
  },
  {
   "cell_type": "markdown",
   "metadata": {
    "id": "Nvyz_XBpXkFu"
   },
   "source": [
    "# 1. Data Loaders for CIFAR-10 dataset\n",
    "Function to download the dataset and load it to memory. Data augmentation is also carried out in this function. Here are the data augmentation techniques that have been applied:\n",
    "1. A random horizontal flip.\n",
    "2. A random rotation between -5 and 5 degrees."
   ]
  },
  {
   "cell_type": "code",
   "execution_count": 70,
   "metadata": {
    "executionInfo": {
     "elapsed": 3,
     "status": "ok",
     "timestamp": 1713306863307,
     "user": {
      "displayName": "Mujtaba Ali Malik",
      "userId": "00496898424284038519"
     },
     "user_tz": -60
    },
    "id": "3G0ScZQDCECU"
   },
   "outputs": [],
   "source": [
    "# Function to download the CIFAR-10 dataset and then load it into memory\n",
    "def load_data_cifar(batch_size, resize=None):\n",
    "    trans = [torchvision.transforms.ToTensor()]\n",
    "    # Data augmentation is carried out by adding transformations to this matrix. These will only be applied to train data\n",
    "    trans_train = [ torchvision.transforms.ToTensor(),\n",
    "                    torchvision.transforms.RandomHorizontalFlip(), # Random horizontal flip\n",
    "                    torchvision.transforms.RandomRotation(degrees = (-5, 5))] # Random rotation between -5 andd 5 degrees\n",
    "    if resize:\n",
    "        trans.insert(0, torchvision.transforms.Resize(resize))\n",
    "    trans = torchvision.transforms.Compose(trans)\n",
    "    trans_tran = torchvision.transforms.Compose(trans_train)\n",
    "    # The transformations in trans_tran are only applied to the train data\n",
    "    cifar_train = torchvision.datasets.CIFAR10(root=\"./data\", train=True, transform=trans_tran, download=True)\n",
    "    cifar_test = torchvision.datasets.CIFAR10( root=\"./data\", train=False, transform=trans, download=True)\n",
    "    return (torch.utils.data.DataLoader(cifar_train, batch_size, shuffle=True, num_workers=2),\n",
    "            torch.utils.data.DataLoader(cifar_test, batch_size, shuffle=False, num_workers=2))"
   ]
  },
  {
   "cell_type": "markdown",
   "metadata": {
    "id": "1l4CbpZGdb1K"
   },
   "source": [
    "# 2. Neural Network\n",
    "## Intermediate Block\n",
    "The `Block` class in the code implements our intermediate block. It follows the instructions explained in the assignment document. It only has convolutional layers and a fully connected layer at the end. Here are its important features:\n",
    "1. **Convolutional layers:** The block contains four convolutional layers. Each receives the same input image and outputs its own image. The parameters of each layer (`kernel_size`, `padding`, and `stride`) are set so that all the layers output images of the same size.\n",
    "2. **Normalization and activation:** Output of each layer is normalized and sent to a ReLU activation function.\n",
    "3. **Fully connected layer:** There is one fully connected (linear) layer at the end to compute the vector $a$. The vector $m$ is computed in the forward function by computing the average value of each channel and storing into a variable `m`. This is then passed to the linear layer to compute the vector $a$. This layer has output units set to 4, which is the number of convolutional layers in our intermediate block.\n",
    "4. **Output formula:** The vector $a$ (stored in variable `a`) has four elements, the same as the number of convolutional layers in our intermediate block. Each element of `a` is multiplied by the output of each of our layers and all the outputs of the convolutional layers are simply summed together. This gives us the out vector that we output for the block.\n"
   ]
  },
  {
   "cell_type": "code",
   "execution_count": 71,
   "metadata": {
    "executionInfo": {
     "elapsed": 3,
     "status": "ok",
     "timestamp": 1713306863307,
     "user": {
      "displayName": "Mujtaba Ali Malik",
      "userId": "00496898424284038519"
     },
     "user_tz": -60
    },
    "id": "MdfuV0XAh9bK"
   },
   "outputs": [],
   "source": [
    "class Block(torch.nn.Module):\n",
    "    def __init__(self, input_channels, output_channels):\n",
    "        super(Block, self).__init__()\n",
    "        # Convolutional layer 1\n",
    "        self.conv1 = torch.nn.Conv2d(input_channels, output_channels, kernel_size=1, padding=0, stride=1)\n",
    "        self.bn1 = torch.nn.BatchNorm2d(output_channels)\n",
    "        self.relu1 = torch.nn.ReLU()\n",
    "        # Convolutional layer 2\n",
    "        self.conv2 = torch.nn.Conv2d(input_channels, output_channels, kernel_size=3, padding=1, stride=1)\n",
    "        self.bn2 = torch.nn.BatchNorm2d(output_channels)\n",
    "        self.relu2 = torch.nn.ReLU()\n",
    "        # Convolutional layer 3\n",
    "        self.conv3 = torch.nn.Conv2d(input_channels, output_channels, kernel_size=5, padding=2, stride=1)\n",
    "        self.bn3 = torch.nn.BatchNorm2d(output_channels)\n",
    "        self.relu3 = torch.nn.ReLU()\n",
    "        # Convolutional layer 4\n",
    "        self.conv4 = torch.nn.Conv2d(input_channels, output_channels, kernel_size=7, padding=3, stride=1)\n",
    "        self.bn4 = torch.nn.BatchNorm2d(output_channels)\n",
    "        self.relu4 = torch.nn.ReLU()\n",
    "        # Fully connected layer\n",
    "        self.lin = torch.nn.Linear(input_channels, 4)\n",
    "\n",
    "    def forward(self, x):\n",
    "        out1 = self.conv1(x)\n",
    "        out1 = self.bn1(out1)\n",
    "        out1 = self.relu1(out1)\n",
    "\n",
    "        out2 = self.conv2(x)\n",
    "        out2 = self.bn2(out2)\n",
    "        out2 = self.relu2(out2)\n",
    "\n",
    "        out3 = self.conv3(x)\n",
    "        out3 = self.bn3(out3)\n",
    "        out3 = self.relu3(out3)\n",
    "\n",
    "        out4 = self.conv4(x)\n",
    "        out4 = self.bn4(out4)\n",
    "        out4 = self.relu4(out4)\n",
    "\n",
    "        m = x.mean(dim = (0, 2, 3))\n",
    "        a = self.lin(m)\n",
    "\n",
    "        # Code to check the output size of each layer\n",
    "        # print(\"a\", a.size())\n",
    "        # print(\"1\", out1.size())\n",
    "        # print(\"2\", out2.size())\n",
    "        # print(\"3\", out3.size())\n",
    "        # print(\"4\", out4.size())\n",
    "\n",
    "        # The output formula as specified in the assignment\n",
    "        out = a[0]*out1 + a[1]*out2 + a[2]*out3 + a[3]*out4\n",
    "\n",
    "        return out"
   ]
  },
  {
   "cell_type": "markdown",
   "metadata": {},
   "source": [
    "## Macroblock\n",
    "The `Macroblock` class is added to produce cleaner code. It adds a level of abstraction so that we don't have to write a single long code for multiple blocks. This allows us to elegantly write how we wish to use our Block class. Here are its important features:\n",
    "1. **Blocks:** The macroblock has five blocks in succession: the output of the preceding block is the input of the next one. Here are the tuples of the input/output channels for our five blocks:\n",
    " - (3, 15)\n",
    " - (15, 30)\n",
    " - (30, 54)\n",
    " - (54, 75)\n",
    " - (75, 96)\n",
    "2. We can see that the number of channels increase after each successive block. This is done intentionally to ensure that we have more capacity to continue to learn at each successive block.\n"
   ]
  },
  {
   "cell_type": "code",
   "execution_count": 72,
   "metadata": {
    "executionInfo": {
     "elapsed": 442,
     "status": "ok",
     "timestamp": 1713306863747,
     "user": {
      "displayName": "Mujtaba Ali Malik",
      "userId": "00496898424284038519"
     },
     "user_tz": -60
    },
    "id": "urr-0hBazDbM"
   },
   "outputs": [],
   "source": [
    "class Macroblock(torch.nn.Module):\n",
    "    def __init__(self):\n",
    "        super(Macroblock, self).__init__()\n",
    "\n",
    "        # Blocks are defined here\n",
    "        self.b1 = Block(3, 15)\n",
    "        self.b2 = Block(15, 30)\n",
    "        self.b3 = Block(30, 54)\n",
    "        self.b4 = Block(54, 75)\n",
    "        self.b5 = Block(75, 96)\n",
    "\n",
    "    def forward(self, x):\n",
    "        # Here is how the output is generated from the macro block\n",
    "        # Input of the first block is the image from the train dataset \n",
    "        # Input of other blocks is the output of the preceding block\n",
    "        out = self.b1(x)\n",
    "        out = self.b2(out)\n",
    "        out = self.b3(out)\n",
    "        out = self.b4(out)\n",
    "        out = self.b5(out)\n",
    "    \n",
    "        return out"
   ]
  },
  {
   "cell_type": "markdown",
   "metadata": {},
   "source": [
    "## Output Block\n",
    "The `OutBlock` class implements our output block. Here are its important features:\n",
    "1. **Input:** The output block's input is the output of our Macroblock (also the output of our last intermediate block, and the output of our last convolutional layer).\n",
    "2. **Transformations:** There are two things we do to the input before we send it to the fully connected layer:\n",
    "(a) We calculate the average of all channels using `AdaptiveAvgPool2d`. This applies a 2D pool over the input.\n",
    "(b) We reduce the number of dimensions by using `Flatten`.\n",
    "3. **Fully connected layer:** This linear layer has output channels set to the number we specified in the constructor. Later we will see that this number is 10 since that is required by us. The number of categories in our input data is 10.\n",
    "4. **Output:** The output block's output channels are 10.\n"
   ]
  },
  {
   "cell_type": "code",
   "execution_count": 73,
   "metadata": {
    "executionInfo": {
     "elapsed": 3,
     "status": "ok",
     "timestamp": 1713306863747,
     "user": {
      "displayName": "Mujtaba Ali Malik",
      "userId": "00496898424284038519"
     },
     "user_tz": -60
    },
    "id": "cMg9hP07cbJV"
   },
   "outputs": [],
   "source": [
    "class OutBlock(torch.nn.Module):\n",
    "    def __init__(self, output_channels):\n",
    "        super(OutBlock, self).__init__()\n",
    "\n",
    "        self.output_channels = output_channels\n",
    "        # For computing channel averages\n",
    "        self.channel_avg = torch.nn.AdaptiveAvgPool2d((1, 1))\n",
    "        # For reducing the dimensions (dropping the redundant dimensions)\n",
    "        self.flatten = torch.nn.Flatten()\n",
    "        # Fully connected layer: reduces input channels to output channels\n",
    "        self.linear = torch.nn.Linear(96, self.output_channels)\n",
    "\n",
    "    def forward(self, x):\n",
    "        # The transformations/layers are applied successively\n",
    "        # print(\"\\nintermediate block output\", x.size())\n",
    "        m = self.channel_avg(x)\n",
    "        # print(\"\\nchannel_avg output\", m.size())\n",
    "        m = self.flatten(m)\n",
    "        # print(\"\\nflatten output\", m.size())\n",
    "        o = self.linear(m)\n",
    "        # print(\"\\nlinear output\", o.size())\n",
    "        return o"
   ]
  },
  {
   "cell_type": "markdown",
   "metadata": {},
   "source": [
    "## Model\n",
    "The `Model` class implements model. It simply contains our `Macroblock` and `OutBlock` instances. Its constructor also accepts the number of outputs."
   ]
  },
  {
   "cell_type": "code",
   "execution_count": 74,
   "metadata": {
    "executionInfo": {
     "elapsed": 3,
     "status": "ok",
     "timestamp": 1713306863747,
     "user": {
      "displayName": "Mujtaba Ali Malik",
      "userId": "00496898424284038519"
     },
     "user_tz": -60
    },
    "id": "GaKiNxJ5zLQ9"
   },
   "outputs": [],
   "source": [
    "class Model(torch.nn.Module):\n",
    "    def __init__(self, num_outputs):\n",
    "        super(Model, self).__init__()\n",
    "\n",
    "        self.num_outputs = num_outputs\n",
    "        # Macroblock instance\n",
    "        self.mb1 = Macroblock()\n",
    "        #OutBlock instance\n",
    "        self.outBlock = OutBlock(output_channels = num_outputs)\n",
    "\n",
    "    def forward(self, x):\n",
    "        # Output generated by applying successively\n",
    "        out = self.mb1(x)\n",
    "        out = self.outBlock(out)\n",
    "        return out"
   ]
  },
  {
   "cell_type": "markdown",
   "metadata": {
    "id": "HmIQNjX9Zu2S"
   },
   "source": [
    "# 3. Training and Testing\n",
    "## Hyperparameters\n",
    "Here we specify some hyperparameters. Batch size is set at `128`. We will conduct `100` training epochs."
   ]
  },
  {
   "cell_type": "code",
   "execution_count": 75,
   "metadata": {
    "executionInfo": {
     "elapsed": 3,
     "status": "ok",
     "timestamp": 1713306863748,
     "user": {
      "displayName": "Mujtaba Ali Malik",
      "userId": "00496898424284038519"
     },
     "user_tz": -60
    },
    "id": "QzUydOhtkFDu"
   },
   "outputs": [],
   "source": [
    "# Hyperparameters\n",
    "batch_size = 128\n",
    "num_epochs = 100"
   ]
  },
  {
   "cell_type": "markdown",
   "metadata": {},
   "source": [
    "The initial weights have been assigned using Xavier initialization."
   ]
  },
  {
   "cell_type": "code",
   "execution_count": 76,
   "metadata": {
    "colab": {
     "base_uri": "https://localhost:8080/"
    },
    "executionInfo": {
     "elapsed": 3,
     "status": "ok",
     "timestamp": 1713306865380,
     "user": {
      "displayName": "Mujtaba Ali Malik",
      "userId": "00496898424284038519"
     },
     "user_tz": -60
    },
    "id": "gN4VnRcXe3Fy",
    "outputId": "2e08f3e2-9e8a-44dc-a8c9-aba82c3906b6"
   },
   "outputs": [
    {
     "data": {
      "text/plain": [
       "Model(\n",
       "  (mb1): Macroblock(\n",
       "    (b1): Block(\n",
       "      (conv1): Conv2d(3, 15, kernel_size=(1, 1), stride=(1, 1))\n",
       "      (bn1): BatchNorm2d(15, eps=1e-05, momentum=0.1, affine=True, track_running_stats=True)\n",
       "      (relu1): ReLU()\n",
       "      (conv2): Conv2d(3, 15, kernel_size=(3, 3), stride=(1, 1), padding=(1, 1))\n",
       "      (bn2): BatchNorm2d(15, eps=1e-05, momentum=0.1, affine=True, track_running_stats=True)\n",
       "      (relu2): ReLU()\n",
       "      (conv3): Conv2d(3, 15, kernel_size=(5, 5), stride=(1, 1), padding=(2, 2))\n",
       "      (bn3): BatchNorm2d(15, eps=1e-05, momentum=0.1, affine=True, track_running_stats=True)\n",
       "      (relu3): ReLU()\n",
       "      (conv4): Conv2d(3, 15, kernel_size=(7, 7), stride=(1, 1), padding=(3, 3))\n",
       "      (bn4): BatchNorm2d(15, eps=1e-05, momentum=0.1, affine=True, track_running_stats=True)\n",
       "      (relu4): ReLU()\n",
       "      (lin): Linear(in_features=3, out_features=4, bias=True)\n",
       "    )\n",
       "    (b2): Block(\n",
       "      (conv1): Conv2d(15, 30, kernel_size=(1, 1), stride=(1, 1))\n",
       "      (bn1): BatchNorm2d(30, eps=1e-05, momentum=0.1, affine=True, track_running_stats=True)\n",
       "      (relu1): ReLU()\n",
       "      (conv2): Conv2d(15, 30, kernel_size=(3, 3), stride=(1, 1), padding=(1, 1))\n",
       "      (bn2): BatchNorm2d(30, eps=1e-05, momentum=0.1, affine=True, track_running_stats=True)\n",
       "      (relu2): ReLU()\n",
       "      (conv3): Conv2d(15, 30, kernel_size=(5, 5), stride=(1, 1), padding=(2, 2))\n",
       "      (bn3): BatchNorm2d(30, eps=1e-05, momentum=0.1, affine=True, track_running_stats=True)\n",
       "      (relu3): ReLU()\n",
       "      (conv4): Conv2d(15, 30, kernel_size=(7, 7), stride=(1, 1), padding=(3, 3))\n",
       "      (bn4): BatchNorm2d(30, eps=1e-05, momentum=0.1, affine=True, track_running_stats=True)\n",
       "      (relu4): ReLU()\n",
       "      (lin): Linear(in_features=15, out_features=4, bias=True)\n",
       "    )\n",
       "    (b3): Block(\n",
       "      (conv1): Conv2d(30, 54, kernel_size=(1, 1), stride=(1, 1))\n",
       "      (bn1): BatchNorm2d(54, eps=1e-05, momentum=0.1, affine=True, track_running_stats=True)\n",
       "      (relu1): ReLU()\n",
       "      (conv2): Conv2d(30, 54, kernel_size=(3, 3), stride=(1, 1), padding=(1, 1))\n",
       "      (bn2): BatchNorm2d(54, eps=1e-05, momentum=0.1, affine=True, track_running_stats=True)\n",
       "      (relu2): ReLU()\n",
       "      (conv3): Conv2d(30, 54, kernel_size=(5, 5), stride=(1, 1), padding=(2, 2))\n",
       "      (bn3): BatchNorm2d(54, eps=1e-05, momentum=0.1, affine=True, track_running_stats=True)\n",
       "      (relu3): ReLU()\n",
       "      (conv4): Conv2d(30, 54, kernel_size=(7, 7), stride=(1, 1), padding=(3, 3))\n",
       "      (bn4): BatchNorm2d(54, eps=1e-05, momentum=0.1, affine=True, track_running_stats=True)\n",
       "      (relu4): ReLU()\n",
       "      (lin): Linear(in_features=30, out_features=4, bias=True)\n",
       "    )\n",
       "    (b4): Block(\n",
       "      (conv1): Conv2d(54, 75, kernel_size=(1, 1), stride=(1, 1))\n",
       "      (bn1): BatchNorm2d(75, eps=1e-05, momentum=0.1, affine=True, track_running_stats=True)\n",
       "      (relu1): ReLU()\n",
       "      (conv2): Conv2d(54, 75, kernel_size=(3, 3), stride=(1, 1), padding=(1, 1))\n",
       "      (bn2): BatchNorm2d(75, eps=1e-05, momentum=0.1, affine=True, track_running_stats=True)\n",
       "      (relu2): ReLU()\n",
       "      (conv3): Conv2d(54, 75, kernel_size=(5, 5), stride=(1, 1), padding=(2, 2))\n",
       "      (bn3): BatchNorm2d(75, eps=1e-05, momentum=0.1, affine=True, track_running_stats=True)\n",
       "      (relu3): ReLU()\n",
       "      (conv4): Conv2d(54, 75, kernel_size=(7, 7), stride=(1, 1), padding=(3, 3))\n",
       "      (bn4): BatchNorm2d(75, eps=1e-05, momentum=0.1, affine=True, track_running_stats=True)\n",
       "      (relu4): ReLU()\n",
       "      (lin): Linear(in_features=54, out_features=4, bias=True)\n",
       "    )\n",
       "    (b5): Block(\n",
       "      (conv1): Conv2d(75, 96, kernel_size=(1, 1), stride=(1, 1))\n",
       "      (bn1): BatchNorm2d(96, eps=1e-05, momentum=0.1, affine=True, track_running_stats=True)\n",
       "      (relu1): ReLU()\n",
       "      (conv2): Conv2d(75, 96, kernel_size=(3, 3), stride=(1, 1), padding=(1, 1))\n",
       "      (bn2): BatchNorm2d(96, eps=1e-05, momentum=0.1, affine=True, track_running_stats=True)\n",
       "      (relu2): ReLU()\n",
       "      (conv3): Conv2d(75, 96, kernel_size=(5, 5), stride=(1, 1), padding=(2, 2))\n",
       "      (bn3): BatchNorm2d(96, eps=1e-05, momentum=0.1, affine=True, track_running_stats=True)\n",
       "      (relu3): ReLU()\n",
       "      (conv4): Conv2d(75, 96, kernel_size=(7, 7), stride=(1, 1), padding=(3, 3))\n",
       "      (bn4): BatchNorm2d(96, eps=1e-05, momentum=0.1, affine=True, track_running_stats=True)\n",
       "      (relu4): ReLU()\n",
       "      (lin): Linear(in_features=75, out_features=4, bias=True)\n",
       "    )\n",
       "  )\n",
       "  (outBlock): OutBlock(\n",
       "    (channel_avg): AdaptiveAvgPool2d(output_size=(1, 1))\n",
       "    (flatten): Flatten(start_dim=1, end_dim=-1)\n",
       "    (linear): Linear(in_features=96, out_features=10, bias=True)\n",
       "  )\n",
       ")"
      ]
     },
     "execution_count": 76,
     "metadata": {},
     "output_type": "execute_result"
    }
   ],
   "source": [
    "# Applies Xavier initialization if the `torch.nn.Module` is `torch.nn.Linear` or `torch.nn.Conv2d`\n",
    "def init_weights(m):\n",
    "    if type(m) == torch.nn.Linear or type(m) == torch.nn.Conv2d:\n",
    "        torch.nn.init.xavier_uniform_(m.weight)\n",
    "\n",
    "num_outputs = 10\n",
    "\n",
    "model = Model(10).to(device) # Creates and moves the model to `device`\n",
    "model.apply(init_weights) # Applies `init_weights` to every `torch.nn.Module` inside `model`"
   ]
  },
  {
   "cell_type": "markdown",
   "metadata": {},
   "source": [
    "We have set the learning rate (`lr`) to `0.01`. The optimizer that has been used is `Adamax`."
   ]
  },
  {
   "cell_type": "code",
   "execution_count": 77,
   "metadata": {},
   "outputs": [],
   "source": [
    "lr = 0.01\n",
    "optimizer = optim.Adamax(model.parameters(), lr=lr)"
   ]
  },
  {
   "cell_type": "code",
   "execution_count": 78,
   "metadata": {
    "colab": {
     "base_uri": "https://localhost:8080/"
    },
    "executionInfo": {
     "elapsed": 1635,
     "status": "ok",
     "timestamp": 1713306865380,
     "user": {
      "displayName": "Mujtaba Ali Malik",
      "userId": "00496898424284038519"
     },
     "user_tz": -60
    },
    "id": "P2KbDz134BIA",
    "outputId": "f962ecb0-666b-4b84-e938-f68a3430c864"
   },
   "outputs": [
    {
     "name": "stdout",
     "output_type": "stream",
     "text": [
      "Files already downloaded and verified\n",
      "Files already downloaded and verified\n"
     ]
    }
   ],
   "source": [
    "train_iter, test_iter = load_data_cifar(batch_size) # Loads the fashion CIFAR-10 dataset. `train_iter` and `test_iter` are `DataLoader` objects.\n",
    "class_labels = ['airplane', 'automobile', 'bird', 'cat', 'deer', 'dog', 'frog', 'horse', 'ship', 'truck'] # Pre-defined class labels"
   ]
  },
  {
   "cell_type": "code",
   "execution_count": 79,
   "metadata": {
    "executionInfo": {
     "elapsed": 2,
     "status": "ok",
     "timestamp": 1713306865380,
     "user": {
      "displayName": "Mujtaba Ali Malik",
      "userId": "00496898424284038519"
     },
     "user_tz": -60
    },
    "id": "_AAe5Mao3u5A"
   },
   "outputs": [],
   "source": [
    "loss = torch.nn.CrossEntropyLoss()"
   ]
  },
  {
   "cell_type": "markdown",
   "metadata": {},
   "source": [
    "## Execution of Training and Testing\n",
    "Code here is borrwed from the labs."
   ]
  },
  {
   "cell_type": "code",
   "execution_count": 80,
   "metadata": {
    "colab": {
     "base_uri": "https://localhost:8080/"
    },
    "executionInfo": {
     "elapsed": 4,
     "status": "ok",
     "timestamp": 1713306866041,
     "user": {
      "displayName": "Mujtaba Ali Malik",
      "userId": "00496898424284038519"
     },
     "user_tz": -60
    },
    "id": "DWt1muOt3xmu",
    "outputId": "e7a8bfd5-cba8-4e31-a13d-00e04b0e6d73"
   },
   "outputs": [
    {
     "name": "stdout",
     "output_type": "stream",
     "text": [
      "tensor(1.)\n"
     ]
    }
   ],
   "source": [
    "def correct(logits, y):\n",
    "    y_hat = logits.argmax(axis=1) # Finds the column with the highest value for each row of `logits`.\n",
    "    return (y_hat == y).float().sum() # Computes the number of times that `y_hat` and `y` match.\n",
    "\n",
    "# Example: 1 correct classification,\n",
    "y = torch.tensor([2, 1])\n",
    "logits = torch.tensor([[0.1, 0.3, 0.6], [0.5, 0.2, 0.3]])\n",
    "print(correct(logits, y))"
   ]
  },
  {
   "cell_type": "code",
   "execution_count": 81,
   "metadata": {
    "executionInfo": {
     "elapsed": 2,
     "status": "ok",
     "timestamp": 1713306866041,
     "user": {
      "displayName": "Mujtaba Ali Malik",
      "userId": "00496898424284038519"
     },
     "user_tz": -60
    },
    "id": "GG-eWcho3zsL"
   },
   "outputs": [],
   "source": [
    "def evaluate_metric(model, data_iter, metric):\n",
    "    \"\"\"Compute the average `metric` of the model on a dataset.\"\"\"\n",
    "    c = 0.\n",
    "    n = 0.\n",
    "    for X, y in data_iter:\n",
    "        X, y = X.to(device), y.to(device) # Moves data to `device`\n",
    "        logits = model(X)\n",
    "        c += metric(logits, y)\n",
    "        n += len(y)\n",
    "\n",
    "    return float(c / n)"
   ]
  },
  {
   "cell_type": "code",
   "execution_count": 82,
   "metadata": {
    "colab": {
     "base_uri": "https://localhost:8080/"
    },
    "executionInfo": {
     "elapsed": 136335,
     "status": "ok",
     "timestamp": 1713307002374,
     "user": {
      "displayName": "Mujtaba Ali Malik",
      "userId": "00496898424284038519"
     },
     "user_tz": -60
    },
    "id": "jFm1gCda31M9",
    "outputId": "66b19d57-59d8-41ae-881e-2735b12a62bd"
   },
   "outputs": [
    {
     "name": "stdout",
     "output_type": "stream",
     "text": [
      "Training accuracy: 0.09999999403953552. Testing accuracy: 0.09999999403953552.\n"
     ]
    }
   ],
   "source": [
    "model.eval() # This is necessary because batch normalization behaves differently between training and evaluation\n",
    "print(f'Training accuracy: {evaluate_metric(model, train_iter, correct)}. Testing accuracy: {evaluate_metric(model, test_iter, correct)}.')"
   ]
  },
  {
   "cell_type": "markdown",
   "metadata": {},
   "source": [
    "## Epochs\n",
    "Here we execute our training epochs and print out training and test accuracy affter each epoch."
   ]
  },
  {
   "cell_type": "code",
   "execution_count": 83,
   "metadata": {
    "colab": {
     "base_uri": "https://localhost:8080/",
     "height": 510
    },
    "executionInfo": {
     "elapsed": 649254,
     "status": "error",
     "timestamp": 1713307651624,
     "user": {
      "displayName": "Mujtaba Ali Malik",
      "userId": "00496898424284038519"
     },
     "user_tz": -60
    },
    "id": "IVUh0VFJ324u",
    "outputId": "c42df328-5da5-49b7-ca2b-892a63cee8e7"
   },
   "outputs": [
    {
     "name": "stdout",
     "output_type": "stream",
     "text": [
      "\n",
      "Epoch 1/100.\n",
      "Training accuracy: 0.3198399841785431. Testing accuracy: 0.29339998960494995. Duration: 23.561s.\n",
      "\n",
      "Epoch 2/100.\n",
      "Training accuracy: 0.47457998991012573. Testing accuracy: 0.4521999955177307. Duration: 23.613s.\n",
      "\n",
      "Epoch 3/100.\n",
      "Training accuracy: 0.6060400009155273. Testing accuracy: 0.5788999795913696. Duration: 23.525s.\n",
      "\n",
      "Epoch 4/100.\n",
      "Training accuracy: 0.5893599987030029. Testing accuracy: 0.5849999785423279. Duration: 23.527s.\n",
      "\n",
      "Epoch 5/100.\n",
      "Training accuracy: 0.6060199737548828. Testing accuracy: 0.6258000135421753. Duration: 23.728s.\n",
      "\n",
      "Epoch 6/100.\n",
      "Training accuracy: 0.6624599695205688. Testing accuracy: 0.6793999671936035. Duration: 23.572s.\n",
      "\n",
      "Epoch 7/100.\n",
      "Training accuracy: 0.7107399702072144. Testing accuracy: 0.7038999795913696. Duration: 23.548s.\n",
      "\n",
      "Epoch 8/100.\n",
      "Training accuracy: 0.8004599809646606. Testing accuracy: 0.786899983882904. Duration: 23.716s.\n",
      "\n",
      "Epoch 9/100.\n",
      "Training accuracy: 0.8084799647331238. Testing accuracy: 0.7871999740600586. Duration: 23.703s.\n",
      "\n",
      "Epoch 10/100.\n",
      "Training accuracy: 0.7847399711608887. Testing accuracy: 0.7591999769210815. Duration: 23.629s.\n",
      "\n",
      "Epoch 11/100.\n",
      "Training accuracy: 0.8108599781990051. Testing accuracy: 0.7824999690055847. Duration: 23.547s.\n",
      "\n",
      "Epoch 12/100.\n",
      "Training accuracy: 0.7513599991798401. Testing accuracy: 0.7348999977111816. Duration: 23.602s.\n",
      "\n",
      "Epoch 13/100.\n",
      "Training accuracy: 0.6692000031471252. Testing accuracy: 0.6692000031471252. Duration: 23.578s.\n",
      "\n",
      "Epoch 14/100.\n",
      "Training accuracy: 0.8067399859428406. Testing accuracy: 0.7919999957084656. Duration: 23.556s.\n",
      "\n",
      "Epoch 15/100.\n",
      "Training accuracy: 0.85343998670578. Testing accuracy: 0.8154000043869019. Duration: 23.522s.\n",
      "\n",
      "Epoch 16/100.\n",
      "Training accuracy: 0.811199963092804. Testing accuracy: 0.7874999642372131. Duration: 23.579s.\n",
      "\n",
      "Epoch 17/100.\n",
      "Training accuracy: 0.8450599908828735. Testing accuracy: 0.8068999648094177. Duration: 23.551s.\n",
      "\n",
      "Epoch 18/100.\n",
      "Training accuracy: 0.8650799989700317. Testing accuracy: 0.8234999775886536. Duration: 23.680s.\n",
      "\n",
      "Epoch 19/100.\n",
      "Training accuracy: 0.8453599810600281. Testing accuracy: 0.8016999959945679. Duration: 23.567s.\n",
      "\n",
      "Epoch 20/100.\n",
      "Training accuracy: 0.8833000063896179. Testing accuracy: 0.832099974155426. Duration: 23.602s.\n",
      "\n",
      "Epoch 21/100.\n",
      "Training accuracy: 0.8497200012207031. Testing accuracy: 0.8075000047683716. Duration: 23.599s.\n",
      "\n",
      "Epoch 22/100.\n",
      "Training accuracy: 0.8643800020217896. Testing accuracy: 0.8136000037193298. Duration: 23.579s.\n",
      "\n",
      "Epoch 23/100.\n",
      "Training accuracy: 0.8914799690246582. Testing accuracy: 0.8406999707221985. Duration: 23.542s.\n",
      "\n",
      "Epoch 24/100.\n",
      "Training accuracy: 0.8813599944114685. Testing accuracy: 0.8305999636650085. Duration: 23.611s.\n",
      "\n",
      "Epoch 25/100.\n",
      "Training accuracy: 0.9042800068855286. Testing accuracy: 0.8418999910354614. Duration: 23.596s.\n",
      "\n",
      "Epoch 26/100.\n",
      "Training accuracy: 0.9003799557685852. Testing accuracy: 0.8409000039100647. Duration: 23.581s.\n",
      "\n",
      "Epoch 27/100.\n",
      "Training accuracy: 0.9220199584960938. Testing accuracy: 0.8526999950408936. Duration: 23.538s.\n",
      "\n",
      "Epoch 28/100.\n",
      "Training accuracy: 0.8919199705123901. Testing accuracy: 0.8292999863624573. Duration: 23.569s.\n",
      "\n",
      "Epoch 29/100.\n",
      "Training accuracy: 0.8951599597930908. Testing accuracy: 0.8313999772071838. Duration: 23.666s.\n",
      "\n",
      "Epoch 30/100.\n",
      "Training accuracy: 0.8705599904060364. Testing accuracy: 0.8077999949455261. Duration: 23.597s.\n",
      "\n",
      "Epoch 31/100.\n",
      "Training accuracy: 0.9303199648857117. Testing accuracy: 0.8525999784469604. Duration: 23.708s.\n",
      "\n",
      "Epoch 32/100.\n",
      "Training accuracy: 0.9190799593925476. Testing accuracy: 0.8459999561309814. Duration: 23.618s.\n",
      "\n",
      "Epoch 33/100.\n",
      "Training accuracy: 0.9023799896240234. Testing accuracy: 0.8349999785423279. Duration: 23.575s.\n",
      "\n",
      "Epoch 34/100.\n",
      "Training accuracy: 0.8997799754142761. Testing accuracy: 0.832099974155426. Duration: 23.611s.\n",
      "\n",
      "Epoch 35/100.\n",
      "Training accuracy: 0.9284999966621399. Testing accuracy: 0.8520999550819397. Duration: 23.636s.\n",
      "\n",
      "Epoch 36/100.\n",
      "Training accuracy: 0.9411599636077881. Testing accuracy: 0.8606999516487122. Duration: 23.617s.\n",
      "\n",
      "Epoch 37/100.\n",
      "Training accuracy: 0.9056800007820129. Testing accuracy: 0.8316999673843384. Duration: 23.623s.\n",
      "\n",
      "Epoch 38/100.\n",
      "Training accuracy: 0.9299999475479126. Testing accuracy: 0.8427000045776367. Duration: 23.549s.\n",
      "\n",
      "Epoch 39/100.\n",
      "Training accuracy: 0.9180799722671509. Testing accuracy: 0.8427000045776367. Duration: 23.599s.\n",
      "\n",
      "Epoch 40/100.\n",
      "Training accuracy: 0.9037799835205078. Testing accuracy: 0.8296999931335449. Duration: 23.593s.\n",
      "\n",
      "Epoch 41/100.\n",
      "Training accuracy: 0.9586799740791321. Testing accuracy: 0.8675000071525574. Duration: 23.612s.\n",
      "\n",
      "Epoch 42/100.\n",
      "Training accuracy: 0.9344799518585205. Testing accuracy: 0.8467999696731567. Duration: 23.555s.\n",
      "\n",
      "Epoch 43/100.\n",
      "Training accuracy: 0.9393399953842163. Testing accuracy: 0.8540999889373779. Duration: 23.591s.\n",
      "\n",
      "Epoch 44/100.\n",
      "Training accuracy: 0.9244799613952637. Testing accuracy: 0.8359999656677246. Duration: 23.731s.\n",
      "\n",
      "Epoch 45/100.\n",
      "Training accuracy: 0.9523399472236633. Testing accuracy: 0.8578999638557434. Duration: 23.711s.\n",
      "\n",
      "Epoch 46/100.\n",
      "Training accuracy: 0.9269199967384338. Testing accuracy: 0.8359000086784363. Duration: 23.721s.\n",
      "\n",
      "Epoch 47/100.\n",
      "Training accuracy: 0.9507399797439575. Testing accuracy: 0.8569999933242798. Duration: 23.562s.\n",
      "\n",
      "Epoch 48/100.\n",
      "Training accuracy: 0.9082799553871155. Testing accuracy: 0.8208999633789062. Duration: 23.594s.\n",
      "\n",
      "Epoch 49/100.\n",
      "Training accuracy: 0.9307799935340881. Testing accuracy: 0.8435999751091003. Duration: 23.619s.\n",
      "\n",
      "Epoch 50/100.\n",
      "Training accuracy: 0.9325000047683716. Testing accuracy: 0.8465999960899353. Duration: 23.654s.\n",
      "\n",
      "Epoch 51/100.\n",
      "Training accuracy: 0.9529599547386169. Testing accuracy: 0.8565999865531921. Duration: 23.602s.\n",
      "\n",
      "Epoch 52/100.\n",
      "Training accuracy: 0.9520599842071533. Testing accuracy: 0.8531000018119812. Duration: 23.683s.\n",
      "\n",
      "Epoch 53/100.\n",
      "Training accuracy: 0.9655399918556213. Testing accuracy: 0.8613999485969543. Duration: 23.713s.\n",
      "\n",
      "Epoch 54/100.\n",
      "Training accuracy: 0.9256999492645264. Testing accuracy: 0.8384999632835388. Duration: 23.601s.\n",
      "\n",
      "Epoch 55/100.\n",
      "Training accuracy: 0.9650599956512451. Testing accuracy: 0.861299991607666. Duration: 23.532s.\n",
      "\n",
      "Epoch 56/100.\n",
      "Training accuracy: 0.9498999714851379. Testing accuracy: 0.8448999524116516. Duration: 23.624s.\n",
      "\n",
      "Epoch 57/100.\n",
      "Training accuracy: 0.9439799785614014. Testing accuracy: 0.8427000045776367. Duration: 23.623s.\n",
      "\n",
      "Epoch 58/100.\n",
      "Training accuracy: 0.9478999972343445. Testing accuracy: 0.8449999690055847. Duration: 23.523s.\n",
      "\n",
      "Epoch 59/100.\n",
      "Training accuracy: 0.9393199682235718. Testing accuracy: 0.8412999510765076. Duration: 23.657s.\n",
      "\n",
      "Epoch 60/100.\n",
      "Training accuracy: 0.9485200047492981. Testing accuracy: 0.8467999696731567. Duration: 23.571s.\n",
      "\n",
      "Epoch 61/100.\n",
      "Training accuracy: 0.9522799849510193. Testing accuracy: 0.8479999899864197. Duration: 23.528s.\n",
      "\n",
      "Epoch 62/100.\n",
      "Training accuracy: 0.9628799557685852. Testing accuracy: 0.8554999828338623. Duration: 23.592s.\n",
      "\n",
      "Epoch 63/100.\n",
      "Training accuracy: 0.9298999905586243. Testing accuracy: 0.8259999752044678. Duration: 23.481s.\n",
      "\n",
      "Epoch 64/100.\n",
      "Training accuracy: 0.9676799774169922. Testing accuracy: 0.8616999983787537. Duration: 23.690s.\n",
      "\n",
      "Epoch 65/100.\n",
      "Training accuracy: 0.9626399874687195. Testing accuracy: 0.859499990940094. Duration: 23.624s.\n",
      "\n",
      "Epoch 66/100.\n",
      "Training accuracy: 0.960159957408905. Testing accuracy: 0.8569999933242798. Duration: 23.533s.\n",
      "\n",
      "Epoch 67/100.\n",
      "Training accuracy: 0.9549999833106995. Testing accuracy: 0.8471999764442444. Duration: 23.564s.\n",
      "\n",
      "Epoch 68/100.\n",
      "Training accuracy: 0.9556999802589417. Testing accuracy: 0.847599983215332. Duration: 23.584s.\n",
      "\n",
      "Epoch 69/100.\n",
      "Training accuracy: 0.9703199863433838. Testing accuracy: 0.8613999485969543. Duration: 23.667s.\n",
      "\n",
      "Epoch 70/100.\n",
      "Training accuracy: 0.9730199575424194. Testing accuracy: 0.8669999837875366. Duration: 23.565s.\n",
      "\n",
      "Epoch 71/100.\n",
      "Training accuracy: 0.9700799584388733. Testing accuracy: 0.8593999743461609. Duration: 23.698s.\n",
      "\n",
      "Epoch 72/100.\n",
      "Training accuracy: 0.9688199758529663. Testing accuracy: 0.8592999577522278. Duration: 23.476s.\n",
      "\n",
      "Epoch 73/100.\n",
      "Training accuracy: 0.9438599944114685. Testing accuracy: 0.8472999930381775. Duration: 23.608s.\n",
      "\n",
      "Epoch 74/100.\n",
      "Training accuracy: 0.9671599864959717. Testing accuracy: 0.8629999756813049. Duration: 23.613s.\n",
      "\n",
      "Epoch 75/100.\n",
      "Training accuracy: 0.9720399975776672. Testing accuracy: 0.8603000044822693. Duration: 23.720s.\n",
      "\n",
      "Epoch 76/100.\n",
      "Training accuracy: 0.9740999937057495. Testing accuracy: 0.861799955368042. Duration: 23.640s.\n",
      "\n",
      "Epoch 77/100.\n",
      "Training accuracy: 0.9697199463844299. Testing accuracy: 0.8570999503135681. Duration: 23.655s.\n",
      "\n",
      "Epoch 78/100.\n",
      "Training accuracy: 0.9664199948310852. Testing accuracy: 0.8628000020980835. Duration: 23.582s.\n",
      "\n",
      "Epoch 79/100.\n",
      "Training accuracy: 0.9612199664115906. Testing accuracy: 0.8560000061988831. Duration: 23.604s.\n",
      "\n",
      "Epoch 80/100.\n",
      "Training accuracy: 0.9680799841880798. Testing accuracy: 0.8622999787330627. Duration: 23.666s.\n",
      "\n",
      "Epoch 81/100.\n",
      "Training accuracy: 0.9736599922180176. Testing accuracy: 0.8660999536514282. Duration: 23.683s.\n",
      "\n",
      "Epoch 82/100.\n",
      "Training accuracy: 0.9795599579811096. Testing accuracy: 0.8652999997138977. Duration: 23.689s.\n",
      "\n",
      "Epoch 83/100.\n",
      "Training accuracy: 0.9728999733924866. Testing accuracy: 0.857699990272522. Duration: 23.645s.\n",
      "\n",
      "Epoch 84/100.\n",
      "Training accuracy: 0.9829199910163879. Testing accuracy: 0.8680999875068665. Duration: 23.528s.\n",
      "\n",
      "Epoch 85/100.\n",
      "Training accuracy: 0.9718599915504456. Testing accuracy: 0.8637999892234802. Duration: 23.575s.\n",
      "\n",
      "Epoch 86/100.\n",
      "Training accuracy: 0.9780599474906921. Testing accuracy: 0.8697999715805054. Duration: 23.617s.\n",
      "\n",
      "Epoch 87/100.\n",
      "Training accuracy: 0.980239987373352. Testing accuracy: 0.8689999580383301. Duration: 23.640s.\n",
      "\n",
      "Epoch 88/100.\n",
      "Training accuracy: 0.974399983882904. Testing accuracy: 0.8568999767303467. Duration: 23.575s.\n",
      "\n",
      "Epoch 89/100.\n",
      "Training accuracy: 0.9638999700546265. Testing accuracy: 0.8465999960899353. Duration: 23.648s.\n",
      "\n",
      "Epoch 90/100.\n",
      "Training accuracy: 0.9504599571228027. Testing accuracy: 0.851099967956543. Duration: 23.648s.\n",
      "\n",
      "Epoch 91/100.\n",
      "Training accuracy: 0.9694599509239197. Testing accuracy: 0.8572999835014343. Duration: 23.520s.\n",
      "\n",
      "Epoch 92/100.\n",
      "Training accuracy: 0.9725599884986877. Testing accuracy: 0.8643999695777893. Duration: 23.611s.\n",
      "\n",
      "Epoch 93/100.\n",
      "Training accuracy: 0.9786999821662903. Testing accuracy: 0.8660999536514282. Duration: 23.653s.\n",
      "\n",
      "Epoch 94/100.\n",
      "Training accuracy: 0.9818399548530579. Testing accuracy: 0.8675999641418457. Duration: 23.577s.\n",
      "\n",
      "Epoch 95/100.\n",
      "Training accuracy: 0.9848199486732483. Testing accuracy: 0.8759999871253967. Duration: 23.580s.\n",
      "\n",
      "Epoch 96/100.\n",
      "Training accuracy: 0.9752399921417236. Testing accuracy: 0.8593999743461609. Duration: 23.757s.\n",
      "\n",
      "Epoch 97/100.\n",
      "Training accuracy: 0.9833799600601196. Testing accuracy: 0.8733999729156494. Duration: 23.629s.\n",
      "\n",
      "Epoch 98/100.\n",
      "Training accuracy: 0.9813999533653259. Testing accuracy: 0.8669999837875366. Duration: 23.670s.\n",
      "\n",
      "Epoch 99/100.\n",
      "Training accuracy: 0.9409799575805664. Testing accuracy: 0.8159999847412109. Duration: 23.732s.\n",
      "\n",
      "Epoch 100/100.\n",
      "Training accuracy: 0.9686999917030334. Testing accuracy: 0.8652999997138977. Duration: 23.544s.\n"
     ]
    }
   ],
   "source": [
    "losses = [] # Stores the loss for each training batch\n",
    "train_accs = [] # Stores the training accuracy after each epoch\n",
    "test_accs = [] # Stores the testing accuracy after each epoch\n",
    "\n",
    "for epoch in range(num_epochs):\n",
    "    print(f'\\nEpoch {epoch + 1}/{num_epochs}.')\n",
    "    start_time = time.perf_counter()\n",
    "\n",
    "    model.train() # This is necessary because batch normalization behaves differently between training and evaluation\n",
    "\n",
    "    for X, y in train_iter:\n",
    "        X, y = X.to(device), y.to(device) # Moves data to `device`\n",
    "        logits = model(X) # Computes the logits for the batch of images `X`\n",
    "\n",
    "        l = loss(logits, y) # Computes the loss given the `logits` and the class vector `y`\n",
    "        optimizer.zero_grad() # Zeroes the gradients stored in the model parameters\n",
    "        l.backward() # Computes the gradient of the loss `l` with respect to the model parameters\n",
    "\n",
    "        optimizer.step() # Updates the model parameters based on the gradients stored inside them\n",
    "\n",
    "        losses.append(float(l)) # Stores the loss for this batch\n",
    "\n",
    "    with torch.no_grad(): # Computing performance metrics does not require gradients\n",
    "        model.eval() # This is necessary because batch normalization behaves differently between training and evaluation\n",
    "        train_accs.append(evaluate_metric(model, train_iter, correct))\n",
    "        test_accs.append(evaluate_metric(model, test_iter, correct))\n",
    "\n",
    "        end_time = time.perf_counter()\n",
    "\n",
    "        print(f'Training accuracy: {train_accs[-1]}. Testing accuracy: {test_accs[-1]}. Duration: {end_time - start_time:.3f}s.') # Computes and displays training/testing dataset accuracy."
   ]
  },
  {
   "cell_type": "markdown",
   "metadata": {},
   "source": [
    "## Graphs of loss and accuracy\n",
    "Now we will display our loss for each traninig batch and training and testing accuracy for epoch on plots. We can see that our testing accuracy goes above 85%."
   ]
  },
  {
   "cell_type": "code",
   "execution_count": 84,
   "metadata": {},
   "outputs": [
    {
     "data": {
      "image/png": "[encoded data removed]",
      "text/plain": [
       "<Figure size 640x480 with 1 Axes>"
      ]
     },
     "metadata": {},
     "output_type": "display_data"
    },
    {
     "data": {
      "image/png": "[encoded data removed]",
      "text/plain": [
       "<Figure size 640x480 with 1 Axes>"
      ]
     },
     "metadata": {},
     "output_type": "display_data"
    },
    {
     "data": {
      "image/png": "[encoded data removed]",
      "text/plain": [
       "<Figure size 640x480 with 1 Axes>"
      ]
     },
     "metadata": {},
     "output_type": "display_data"
    }
   ],
   "source": [
    "plt.plot(losses) # Plots the loss for each training batch\n",
    "plt.xlabel('Training batch')\n",
    "plt.ylabel('Cross entropy loss')\n",
    "plt.show()\n",
    "\n",
    "plt.plot(train_accs, label='Training accuracy')\n",
    "plt.plot(test_accs, label='Testing accuracy')\n",
    "plt.legend(loc='best')\n",
    "plt.xlabel('Epoch')\n",
    "plt.show()\n",
    "\n",
    "plt.plot(train_accs, label='Training accuracy')\n",
    "plt.plot(test_accs, label='Testing accuracy')\n",
    "plt.axhline(y=0.85, color='g', linestyle=':', label='85% accuracy')\n",
    "plt.legend(loc='best')\n",
    "plt.xlabel('Epoch')\n",
    "plt.show()"
   ]
  }
 ],
 "metadata": {
  "accelerator": "GPU",
  "colab": {
   "authorship_tag": "ABX9TyOZVZIykYeknq7+ercjN/Ym",
   "gpuType": "T4",
   "provenance": []
  },
  "kernelspec": {
   "display_name": "Python 3 (ipykernel)",
   "language": "python",
   "name": "python3"
  },
  "language_info": {
   "codemirror_mode": {
    "name": "ipython",
    "version": 3
   },
   "file_extension": ".py",
   "mimetype": "text/x-python",
   "name": "python",
   "nbconvert_exporter": "python",
   "pygments_lexer": "ipython3",
   "version": "3.12.3"
  }
 },
 "nbformat": 4,
 "nbformat_minor": 4
}
